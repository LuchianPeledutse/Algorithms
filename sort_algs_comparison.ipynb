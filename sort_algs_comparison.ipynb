{
 "cells": [
  {
   "cell_type": "code",
   "execution_count": 2,
   "metadata": {},
   "outputs": [],
   "source": [
    "import numpy as np\n",
    "import time\n",
    "import random as rd \n",
    "import pandas as pd"
   ]
  },
  {
   "cell_type": "code",
   "execution_count": 3,
   "metadata": {},
   "outputs": [],
   "source": [
    "#Merge that is needed for MergeSort\n",
    "def Merge(A,p,q,r):\n",
    "\t#len(A) > 1 as p<=q<r\n",
    "\tn1 = q-p+1\n",
    "\tn2 = r-q\n",
    "\t#create left and right sequences\n",
    "\tL = [1 for _ in range(n1)]\n",
    "\tR = [1 for _ in range(n2)]\n",
    "\t#filling them up\n",
    "\tfor k in range(n1):\n",
    "\t\tL[k] = A[p+k]\n",
    "\tfor k in range(n2):\n",
    "\t\tR[k] = A[q+k+1]\n",
    "\t#sorting in non-decreasing order\n",
    "\ti,j = 0,0\n",
    "\tfor ind in range(p,r+1):\n",
    "\t\tif i+1 > n1:\n",
    "\t\t\tA[ind] = R[j]\n",
    "\t\t\tj += 1\n",
    "\t\telif j+1 > n2:\n",
    "\t\t\tA[ind] = L[i]\n",
    "\t\t\ti += 1\n",
    "\t\telse:\n",
    "\t\t\tif L[i] <= R[j]:\n",
    "\t\t\t\tA[ind] = L[i]\n",
    "\t\t\t\ti += 1\n",
    "\t\t\telse:\n",
    "\t\t\t\tA[ind] = R[j]\n",
    "\t\t\t\tj += 1\n",
    "\n",
    "#merge_sort\n",
    "def MergeSort(A,p,r):\n",
    "\t#here we have p<=r\n",
    "\t#if p = r nothing is done\n",
    "\tif p<r:\n",
    "\t\tq = int((p+r)/2)\n",
    "\t\t#q satisfies p<=q<r\n",
    "\t\tMergeSort(A,p,q)\n",
    "\t\tMergeSort(A,q+1,r)\n",
    "\t\tMerge(A,p,q,r)\n",
    "\n",
    "#insertion_sort\n",
    "def insertion_sort(A):\n",
    "\tN = len(A)\n",
    "\tfor j in range(1,N):\n",
    "\t\tkey = A[j]\n",
    "\t\ti = j-1\n",
    "\t\twhile i>=0 and A[i]>key:\n",
    "\t\t\tA[i+1] = A[i]\n",
    "\t\t\ti -= 1\n",
    "\t\tA[i+1] = key\n"
   ]
  },
  {
   "cell_type": "code",
   "execution_count": 4,
   "metadata": {},
   "outputs": [],
   "source": [
    "def test_merge(N):\n",
    "\tfor k in range(N):\n",
    "\t\trand_ar = [rd.randint(1,99) for _ in range(11)]\n",
    "\t\tpy_sort = list(sorted(rand_ar))\n",
    "\t\tprint(f'Python_sort: {py_sort}')\n",
    "\t\tprint(f'Initital_list: {rand_ar}')\n",
    "\t\tMergeSort(rand_ar,0,len(rand_ar)-1)\n",
    "\t\tprint(f'MergeSort: {rand_ar}',end = '\\n\\n')\n",
    "\t\tif rand_ar != list(sorted(rand_ar)):\n",
    "\t\t\tprint('#################WRONG#################')\n",
    "\n",
    "\n",
    "def test_ins_sort(N):\n",
    "\tfor k in range(N):\n",
    "\t\trand_ar = [rd.randint(1,99) for _ in range(10)]\n",
    "\t\tpy_sort = list(sorted(rand_ar))\n",
    "\t\tprint(f'Python_sort: {py_sort}')\n",
    "\t\tprint(f'Initital_list: {rand_ar}')\n",
    "\t\tinsertion_sort(rand_ar)\n",
    "\t\tprint(f'Insertion_sort: {rand_ar}',end = '\\n\\n')\n",
    "\t\tif rand_ar != list(sorted(rand_ar)):\n",
    "\t\t\tprint('#################WRONG#################')"
   ]
  },
  {
   "cell_type": "code",
   "execution_count": 5,
   "metadata": {},
   "outputs": [
    {
     "name": "stdout",
     "output_type": "stream",
     "text": [
      "Python_sort: [2, 5, 6, 8, 17, 17, 20, 27, 30, 46, 88]\n",
      "Initital_list: [17, 6, 27, 20, 8, 88, 2, 5, 17, 46, 30]\n",
      "MergeSort: [2, 5, 6, 8, 17, 17, 20, 27, 30, 46, 88]\n",
      "\n",
      "Python_sort: [6, 41, 45, 64, 68, 77, 80, 91, 96, 97, 98]\n",
      "Initital_list: [96, 6, 97, 77, 64, 98, 80, 68, 91, 41, 45]\n",
      "MergeSort: [6, 41, 45, 64, 68, 77, 80, 91, 96, 97, 98]\n",
      "\n",
      "Python_sort: [8, 22, 24, 35, 46, 65, 69, 71, 75, 80, 89]\n",
      "Initital_list: [89, 75, 8, 24, 80, 71, 65, 46, 22, 69, 35]\n",
      "MergeSort: [8, 22, 24, 35, 46, 65, 69, 71, 75, 80, 89]\n",
      "\n",
      "Python_sort: [26, 40, 52, 53, 57, 64, 74, 75, 81, 95, 98]\n",
      "Initital_list: [40, 64, 74, 26, 95, 57, 53, 75, 98, 81, 52]\n",
      "MergeSort: [26, 40, 52, 53, 57, 64, 74, 75, 81, 95, 98]\n",
      "\n",
      "Python_sort: [1, 1, 9, 26, 32, 34, 43, 44, 67, 72, 75]\n",
      "Initital_list: [43, 34, 26, 1, 44, 32, 1, 75, 72, 9, 67]\n",
      "MergeSort: [1, 1, 9, 26, 32, 34, 43, 44, 67, 72, 75]\n",
      "\n",
      "Python_sort: [6, 10, 20, 49, 56, 57, 70, 73, 96, 97]\n",
      "Initital_list: [49, 20, 96, 10, 56, 70, 57, 6, 73, 97]\n",
      "Insertion_sort: [6, 10, 20, 49, 56, 57, 70, 73, 96, 97]\n",
      "\n",
      "Python_sort: [6, 7, 13, 15, 16, 24, 49, 61, 97, 98]\n",
      "Initital_list: [7, 6, 16, 98, 49, 15, 97, 24, 61, 13]\n",
      "Insertion_sort: [6, 7, 13, 15, 16, 24, 49, 61, 97, 98]\n",
      "\n",
      "Python_sort: [12, 15, 37, 44, 49, 53, 63, 66, 81, 87]\n",
      "Initital_list: [81, 44, 63, 12, 15, 49, 53, 66, 37, 87]\n",
      "Insertion_sort: [12, 15, 37, 44, 49, 53, 63, 66, 81, 87]\n",
      "\n",
      "Python_sort: [5, 5, 7, 8, 29, 51, 54, 65, 84, 98]\n",
      "Initital_list: [65, 5, 8, 29, 5, 84, 54, 98, 51, 7]\n",
      "Insertion_sort: [5, 5, 7, 8, 29, 51, 54, 65, 84, 98]\n",
      "\n",
      "Python_sort: [6, 9, 14, 45, 55, 58, 59, 85, 90, 99]\n",
      "Initital_list: [9, 55, 85, 99, 90, 14, 45, 59, 58, 6]\n",
      "Insertion_sort: [6, 9, 14, 45, 55, 58, 59, 85, 90, 99]\n",
      "\n"
     ]
    }
   ],
   "source": [
    "N = 5\n",
    "test_merge(N)\n",
    "test_ins_sort(N)"
   ]
  },
  {
   "cell_type": "code",
   "execution_count": 6,
   "metadata": {},
   "outputs": [
    {
     "name": "stdout",
     "output_type": "stream",
     "text": [
      "Mergesort_time:0.286280 seconds\n"
     ]
    }
   ],
   "source": [
    "#time of 100_000 elements of MergeSort\n",
    "start_time = time.time()\n",
    "some_ar = [rd.randint(1,99) for _ in range(100_000)]\n",
    "MergeSort(some_ar,0,len(some_ar)-1)\n",
    "end_time = time.time()\n",
    "print(f'Mergesort_time:{end_time-start_time:.6f} seconds')"
   ]
  },
  {
   "cell_type": "code",
   "execution_count": 12,
   "metadata": {},
   "outputs": [
    {
     "name": "stdout",
     "output_type": "stream",
     "text": [
      "Insertion_sort_time:115.499474 seconds\n"
     ]
    }
   ],
   "source": [
    "#time of 100_000 elements of InsertionSort\n",
    "start_time = time.time()\n",
    "some_ar = [rd.randint(1,99) for _ in range(100_000)]\n",
    "insertion_sort(some_ar)\n",
    "end_time = time.time()\n",
    "print(f'Insertion_sort_time:{end_time-start_time:.6f} seconds')"
   ]
  },
  {
   "cell_type": "code",
   "execution_count": 8,
   "metadata": {},
   "outputs": [
    {
     "data": {
      "text/html": [
       "<div>\n",
       "<style scoped>\n",
       "    .dataframe tbody tr th:only-of-type {\n",
       "        vertical-align: middle;\n",
       "    }\n",
       "\n",
       "    .dataframe tbody tr th {\n",
       "        vertical-align: top;\n",
       "    }\n",
       "\n",
       "    .dataframe thead th {\n",
       "        text-align: right;\n",
       "    }\n",
       "</style>\n",
       "<table border=\"1\" class=\"dataframe\">\n",
       "  <thead>\n",
       "    <tr style=\"text-align: right;\">\n",
       "      <th></th>\n",
       "      <th>Algorithms</th>\n",
       "      <th>Time</th>\n",
       "    </tr>\n",
       "  </thead>\n",
       "  <tbody>\n",
       "    <tr>\n",
       "      <th>0</th>\n",
       "      <td>MergeSort</td>\n",
       "      <td>0.286280</td>\n",
       "    </tr>\n",
       "    <tr>\n",
       "      <th>1</th>\n",
       "      <td>Insertion_sort</td>\n",
       "      <td>115.499474</td>\n",
       "    </tr>\n",
       "  </tbody>\n",
       "</table>\n",
       "</div>"
      ],
      "text/plain": [
       "       Algorithms        Time\n",
       "0       MergeSort    0.286280\n",
       "1  Insertion_sort  115.499474"
      ]
     },
     "execution_count": 8,
     "metadata": {},
     "output_type": "execute_result"
    }
   ],
   "source": [
    "main_table = pd.DataFrame({\n",
    "    'Algorithms':['MergeSort','Insertion_sort'],\n",
    "    'Time':[0.286280,115.499474]\n",
    "})\n",
    "main_table"
   ]
  }
 ],
 "metadata": {
  "kernelspec": {
   "display_name": "venv-MyPython",
   "language": "python",
   "name": "python3"
  },
  "language_info": {
   "codemirror_mode": {
    "name": "ipython",
    "version": 3
   },
   "file_extension": ".py",
   "mimetype": "text/x-python",
   "name": "python",
   "nbconvert_exporter": "python",
   "pygments_lexer": "ipython3",
   "version": "3.12.3"
  }
 },
 "nbformat": 4,
 "nbformat_minor": 2
}
