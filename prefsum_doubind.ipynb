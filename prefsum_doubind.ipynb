{
 "cells": [
  {
   "cell_type": "code",
   "execution_count": 1,
   "id": "7c84bc98",
   "metadata": {},
   "outputs": [],
   "source": [
    "import random as rd\n",
    "import numpy as np"
   ]
  },
  {
   "cell_type": "markdown",
   "id": "37fcf774",
   "metadata": {},
   "source": [
    "### Prefix sums"
   ]
  },
  {
   "cell_type": "code",
   "execution_count": 2,
   "id": "924a7ebc",
   "metadata": {},
   "outputs": [],
   "source": [
    "def make_pref_sum(some_ar):\n",
    "    #argument list is non-empty\n",
    "    pref_list = [0]\n",
    "    for ind in range(len(some_ar)):\n",
    "        pref_list.append(pref_list[ind] + some_ar[ind])\n",
    "    return pref_list"
   ]
  },
  {
   "cell_type": "code",
   "execution_count": 3,
   "id": "e832ef98",
   "metadata": {},
   "outputs": [],
   "source": [
    "def interval_sum(the_pref_list,L,R):\n",
    "    #argument list is non-empty\n",
    "    #L R in ind ranges of some_ar\n",
    "    #[L,R)\n",
    "    #L<R\n",
    "    return the_pref_list[R]-the_pref_list[L]"
   ]
  },
  {
   "cell_type": "code",
   "execution_count": 4,
   "id": "caf7b7a2",
   "metadata": {},
   "outputs": [
    {
     "name": "stdout",
     "output_type": "stream",
     "text": [
      "10\n"
     ]
    },
    {
     "data": {
      "text/plain": [
       "[6, 10, 2, 4, 9, 11, 9, 10, 10, 11]"
      ]
     },
     "execution_count": 4,
     "metadata": {},
     "output_type": "execute_result"
    }
   ],
   "source": [
    "some_list = [rd.randint(1,11) for _ in range(10)]\n",
    "print(len(some_list))\n",
    "some_list"
   ]
  },
  {
   "cell_type": "code",
   "execution_count": 5,
   "id": "c5625e39",
   "metadata": {},
   "outputs": [
    {
     "name": "stdout",
     "output_type": "stream",
     "text": [
      "11\n"
     ]
    },
    {
     "data": {
      "text/plain": [
       "[0, 6, 16, 18, 22, 31, 42, 51, 61, 71, 82]"
      ]
     },
     "execution_count": 5,
     "metadata": {},
     "output_type": "execute_result"
    }
   ],
   "source": [
    "pref_list = make_pref_sum(some_list)\n",
    "print(len(pref_list))\n",
    "pref_list"
   ]
  },
  {
   "cell_type": "code",
   "execution_count": 6,
   "id": "6f70680f",
   "metadata": {},
   "outputs": [
    {
     "data": {
      "text/plain": [
       "39"
      ]
     },
     "execution_count": 6,
     "metadata": {},
     "output_type": "execute_result"
    }
   ],
   "source": [
    "interval_sum(make_pref_sum(some_list),4,8)"
   ]
  },
  {
   "cell_type": "code",
   "execution_count": 7,
   "id": "51a33e1c",
   "metadata": {},
   "outputs": [],
   "source": [
    "#find zeros on [L,R)\n",
    "def make_zero_prefixes(some_ar):\n",
    "    #the argument list is non-empty\n",
    "    zero_pref_list = [0]\n",
    "    for ind in range(len(some_ar)):\n",
    "        if some_ar[ind] == 0:\n",
    "            zero_pref_list.append(zero_pref_list[ind]+1)\n",
    "        else:\n",
    "            zero_pref_list.append(zero_pref_list[ind])\n",
    "    return zero_pref_list"
   ]
  },
  {
   "cell_type": "code",
   "execution_count": 8,
   "id": "0c7ac454",
   "metadata": {},
   "outputs": [
    {
     "name": "stdout",
     "output_type": "stream",
     "text": [
      "7\n"
     ]
    },
    {
     "data": {
      "text/plain": [
       "[2, 3, 0, 2, 0, 0, 0]"
      ]
     },
     "execution_count": 8,
     "metadata": {},
     "output_type": "execute_result"
    }
   ],
   "source": [
    "some_list = [rd.randint(0,3) for _ in range(7)]\n",
    "print(len(some_list))\n",
    "some_list"
   ]
  },
  {
   "cell_type": "code",
   "execution_count": 9,
   "id": "f88877a2",
   "metadata": {},
   "outputs": [
    {
     "name": "stdout",
     "output_type": "stream",
     "text": [
      "8\n"
     ]
    },
    {
     "data": {
      "text/plain": [
       "[0, 0, 0, 1, 1, 2, 3, 4]"
      ]
     },
     "execution_count": 9,
     "metadata": {},
     "output_type": "execute_result"
    }
   ],
   "source": [
    "zero_pref_list = make_zero_prefixes(some_list)\n",
    "print(len(zero_pref_list))\n",
    "zero_pref_list"
   ]
  },
  {
   "cell_type": "code",
   "execution_count": 10,
   "id": "1df021f9",
   "metadata": {},
   "outputs": [],
   "source": [
    "def find_zeros_on_interval(zero_pref_list,L,R):\n",
    "    return zero_pref_list[R]-zero_pref_list[L]"
   ]
  },
  {
   "cell_type": "code",
   "execution_count": 11,
   "id": "418ba96c",
   "metadata": {},
   "outputs": [
    {
     "data": {
      "text/plain": [
       "3"
      ]
     },
     "execution_count": 11,
     "metadata": {},
     "output_type": "execute_result"
    }
   ],
   "source": [
    "find_zeros_on_interval(make_zero_prefixes(some_list),1,6)"
   ]
  },
  {
   "cell_type": "code",
   "execution_count": 126,
   "id": "918d474e",
   "metadata": {},
   "outputs": [],
   "source": [
    "#find the count of intervals with zeros sums"
   ]
  },
  {
   "cell_type": "code",
   "execution_count": 92,
   "id": "20012955",
   "metadata": {},
   "outputs": [],
   "source": [
    "def same_sums(main_arr):\n",
    "    \"\"\"returns an array of counts of the same sums\"\"\"\n",
    "    main_dict = {0:1}\n",
    "    the_sum = 0\n",
    "    for ind in range(len(main_arr)):\n",
    "        the_sum += main_arr[ind]\n",
    "        try:\n",
    "            main_dict[the_sum] += 1\n",
    "        except:\n",
    "            main_dict[the_sum] = 1\n",
    "    return main_dict"
   ]
  },
  {
   "cell_type": "code",
   "execution_count": 180,
   "id": "9138eefa",
   "metadata": {},
   "outputs": [],
   "source": [
    "def count_zero_inter(same_sum_dict):\n",
    "    the_inter_count = 0\n",
    "    for one_key in same_sum_dict.keys():\n",
    "        if same_sum_dict[one_key] != 1:\n",
    "            the_inter_count += int((same_sum_dict[one_key]-1)*same_sum_dict[one_key]/2)\n",
    "    return the_inter_count"
   ]
  },
  {
   "cell_type": "code",
   "execution_count": 181,
   "id": "9e89f992",
   "metadata": {},
   "outputs": [],
   "source": [
    "def slow_find_sum(main_ar):\n",
    "    zero_sum_count = 0\n",
    "    for ind1 in range(len(main_ar)):\n",
    "        for ind2 in range(ind1,len(main_ar)):\n",
    "            if sum(main_ar[ind1:ind2+1]) == 0:\n",
    "                zero_sum_count += 1\n",
    "    return zero_sum_count"
   ]
  },
  {
   "cell_type": "code",
   "execution_count": 199,
   "id": "29fd7c88",
   "metadata": {},
   "outputs": [
    {
     "name": "stdout",
     "output_type": "stream",
     "text": [
      "15\n"
     ]
    },
    {
     "data": {
      "text/plain": [
       "[5, -2, 4, -5, 3, -1, -2, -1, -2, 0, -2, -1, -1, -1, 3]"
      ]
     },
     "execution_count": 199,
     "metadata": {},
     "output_type": "execute_result"
    }
   ],
   "source": [
    "test_array = [rd.randint(-5,5) for _ in range(15)]\n",
    "print(len(test_array))\n",
    "test_array"
   ]
  },
  {
   "cell_type": "code",
   "execution_count": 200,
   "id": "3c2f1d5b",
   "metadata": {},
   "outputs": [
    {
     "name": "stdout",
     "output_type": "stream",
     "text": [
      "4\n",
      "4\n"
     ]
    }
   ],
   "source": [
    "print(slow_find_sum(test_array))\n",
    "print(count_zero_inter(same_sums(test_array)))"
   ]
  },
  {
   "cell_type": "code",
   "execution_count": 201,
   "id": "0c277a92",
   "metadata": {},
   "outputs": [],
   "source": [
    "def test(N = 10,num_range = 7,max_length = 15):\n",
    "    for _ in range(N):\n",
    "        rand_ar = [rd.randint(-num_range,num_range) for _ in range(rd.randint(1,max_length))]\n",
    "        slow_alg = slow_find_sum(rand_ar)\n",
    "        main_alg = count_zero_inter(same_sums(rand_ar))\n",
    "        if slow_alg == main_alg:\n",
    "            print(f'TEST #{_+1} PASSED')\n",
    "        else:\n",
    "            print(f'------WRONG-------')\n",
    "            print(f'slow_alg res is {slow_alg}')\n",
    "            print(f'main_alg res is {main_alg}')"
   ]
  },
  {
   "cell_type": "code",
   "execution_count": 202,
   "id": "b9199a2d",
   "metadata": {},
   "outputs": [
    {
     "name": "stdout",
     "output_type": "stream",
     "text": [
      "TEST #1 PASSED\n",
      "TEST #2 PASSED\n",
      "TEST #3 PASSED\n",
      "TEST #4 PASSED\n",
      "TEST #5 PASSED\n",
      "TEST #6 PASSED\n",
      "TEST #7 PASSED\n",
      "TEST #8 PASSED\n",
      "TEST #9 PASSED\n",
      "TEST #10 PASSED\n"
     ]
    }
   ],
   "source": [
    "test(10,10,100)"
   ]
  },
  {
   "cell_type": "code",
   "execution_count": null,
   "id": "07f312d1",
   "metadata": {},
   "outputs": [
    {
     "name": "stdout",
     "output_type": "stream",
     "text": [
      "[  1   2   3   4   5   6   7   8   9  10  11  12  13  14  15  16  17  18\n",
      "  19  20  21  22  23  24  25  26  27  28  29  30  31  32  33  34  35  36\n",
      "  37  38  39  40  41  42  43  44  45  46  47  48  49  50  51  52  53  54\n",
      "  55  56  57  58  59  60  61  62  63  64  65  66  67  68  69  70  71  72\n",
      "  73  74  75  76  77  78  79  80  81  82  83  84  85  86  87  88  89  90\n",
      "  91  92  93  94  95  96  97  98  99 100]\n"
     ]
    }
   ],
   "source": [
    "double "
   ]
  },
  {
   "cell_type": "code",
   "execution_count": null,
   "id": "11f1b54e",
   "metadata": {},
   "outputs": [],
   "source": []
  },
  {
   "cell_type": "code",
   "execution_count": null,
   "id": "e15801d2",
   "metadata": {},
   "outputs": [],
   "source": []
  }
 ],
 "metadata": {
  "kernelspec": {
   "display_name": "venv-MyPython",
   "language": "python",
   "name": "python3"
  },
  "language_info": {
   "codemirror_mode": {
    "name": "ipython",
    "version": 3
   },
   "file_extension": ".py",
   "mimetype": "text/x-python",
   "name": "python",
   "nbconvert_exporter": "python",
   "pygments_lexer": "ipython3",
   "version": "3.12.3"
  }
 },
 "nbformat": 4,
 "nbformat_minor": 5
}
